{
 "cells": [
  {
   "cell_type": "code",
   "execution_count": 1,
   "metadata": {},
   "outputs": [],
   "source": [
    "import numpy as np\n",
    "import scipy as sp\n",
    "import scipy.stats as stats"
   ]
  },
  {
   "cell_type": "code",
   "execution_count": 10,
   "metadata": {},
   "outputs": [],
   "source": [
    "# Advertisement and Marketing:\n",
    "# H0: nyc = sfo\n",
    "shared_sample_freq = (602+230) / (4209+1709)\n",
    "shared_sample_variance = (4209+1709) * (shared_sample_freq * (1 - shared_sample_freq)) / (4209*1709)\n",
    "\n",
    "difference_in_proportions = stats.norm(0, np.sqrt(shared_sample_variance))"
   ]
  },
  {
   "cell_type": "code",
   "execution_count": 11,
   "metadata": {},
   "outputs": [
    {
     "name": "stdout",
     "output_type": "stream",
     "text": [
      "Difference in sample proportions: 0.00845\n"
     ]
    }
   ],
   "source": [
    "NYC_freq = 602 / 4209\n",
    "SFO_freq = 230 / 1709\n",
    "difference_in_sample_proportions = NYC_freq - SFO_freq\n",
    "print(\"Difference in sample proportions: {:2.5f}\".format(difference_in_sample_proportions))"
   ]
  },
  {
   "cell_type": "code",
   "execution_count": 12,
   "metadata": {},
   "outputs": [
    {
     "name": "stdout",
     "output_type": "stream",
     "text": [
      "p-value for kickfip frequency comparison: 0.19848358\n"
     ]
    }
   ],
   "source": [
    "p_value = 1 - difference_in_proportions.cdf(difference_in_sample_proportions)\n",
    "print(\"p-value for kickfip frequency comparison: {:2.8f}\".format(p_value))"
   ]
  },
  {
   "cell_type": "code",
   "execution_count": null,
   "metadata": {},
   "outputs": [],
   "source": [
    "#A large p-value (> 0.05) indicates weak evidence against the null hypothesis, \n",
    "#so you fail to reject the null hypothesis.\n",
    "#In statistics, the p-value is the probability of obtaining results \n",
    "#at least as extreme as the observed results of a statistical hypothesis test, \n",
    "#assuming that the null hypothesis is correct."
   ]
  },
  {
   "cell_type": "code",
   "execution_count": 13,
   "metadata": {},
   "outputs": [],
   "source": [
    "#IT services: p=0.05\n",
    "shared_sample_freq = (574+191) / (4209+1709)\n",
    "shared_sample_variance = (4209+1709) * (shared_sample_freq * (1 - shared_sample_freq)) / (4209*1709)\n",
    "\n",
    "difference_in_proportions = stats.norm(0, np.sqrt(shared_sample_variance))"
   ]
  },
  {
   "cell_type": "code",
   "execution_count": 14,
   "metadata": {},
   "outputs": [
    {
     "name": "stdout",
     "output_type": "stream",
     "text": [
      "Difference in sample proportions: 0.02461\n"
     ]
    }
   ],
   "source": [
    "NYC_freq = 574 / 4209\n",
    "SFO_freq = 191 / 1709\n",
    "difference_in_sample_proportions = NYC_freq - SFO_freq\n",
    "print(\"Difference in sample proportions: {:2.5f}\".format(difference_in_sample_proportions))"
   ]
  },
  {
   "cell_type": "code",
   "execution_count": 15,
   "metadata": {},
   "outputs": [
    {
     "name": "stdout",
     "output_type": "stream",
     "text": [
      "p-value for kickfip frequency comparison: 0.00526789\n"
     ]
    }
   ],
   "source": [
    "p_value = 1 - difference_in_proportions.cdf(difference_in_sample_proportions)\n",
    "print(\"p-value for kickfip frequency comparison: {:2.8f}\".format(p_value))"
   ]
  },
  {
   "cell_type": "code",
   "execution_count": 16,
   "metadata": {},
   "outputs": [],
   "source": [
    "#Business:\n",
    "shared_sample_freq = (502+183) / (4209+1709)\n",
    "shared_sample_variance = (4209+1709) * (shared_sample_freq * (1 - shared_sample_freq)) / (4209*1709)\n",
    "\n",
    "difference_in_proportions = stats.norm(0, np.sqrt(shared_sample_variance))"
   ]
  },
  {
   "cell_type": "code",
   "execution_count": 17,
   "metadata": {},
   "outputs": [
    {
     "name": "stdout",
     "output_type": "stream",
     "text": [
      "Difference in sample proportions: 0.01219\n"
     ]
    }
   ],
   "source": [
    "NYC_freq = 502 / 4209\n",
    "SFO_freq = 183 / 1709\n",
    "difference_in_sample_proportions = NYC_freq - SFO_freq\n",
    "print(\"Difference in sample proportions: {:2.5f}\".format(difference_in_sample_proportions))"
   ]
  },
  {
   "cell_type": "code",
   "execution_count": 18,
   "metadata": {},
   "outputs": [
    {
     "name": "stdout",
     "output_type": "stream",
     "text": [
      "p-value for kickfip frequency comparison: 0.09205662\n"
     ]
    }
   ],
   "source": [
    "p_value = 1 - difference_in_proportions.cdf(difference_in_sample_proportions)\n",
    "print(\"p-value for kickfip frequency comparison: {:2.8f}\".format(p_value))"
   ]
  },
  {
   "cell_type": "code",
   "execution_count": null,
   "metadata": {},
   "outputs": [],
   "source": [
    "###Growth overtime\n",
    "#Energy growth over time\n"
   ]
  }
 ],
 "metadata": {
  "kernelspec": {
   "display_name": "Python 3",
   "language": "python",
   "name": "python3"
  },
  "language_info": {
   "codemirror_mode": {
    "name": "ipython",
    "version": 3
   },
   "file_extension": ".py",
   "mimetype": "text/x-python",
   "name": "python",
   "nbconvert_exporter": "python",
   "pygments_lexer": "ipython3",
   "version": "3.7.9"
  }
 },
 "nbformat": 4,
 "nbformat_minor": 4
}
